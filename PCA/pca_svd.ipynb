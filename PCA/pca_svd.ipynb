{
 "cells": [
  {
   "cell_type": "markdown",
   "id": "a6ec2441b71eb5e2",
   "metadata": {
    "collapsed": false
   },
   "source": [
    "# Introduction\n",
    "In this case, we are going to go through Principal Component Analysis (PCA) by using Singular Value Decomposition (SVD)."
   ]
  },
  {
   "cell_type": "code",
   "execution_count": null,
   "id": "eee87c02946be62c",
   "metadata": {
    "collapsed": false
   },
   "outputs": [],
   "source": [
    "# %matplotlib notebook\n",
    "\n",
    "import pandas as pd\n",
    "import matplotlib.pyplot as plt"
   ]
  },
  {
   "cell_type": "code",
   "execution_count": null,
   "id": "2c25da6bf0263552",
   "metadata": {
    "collapsed": false
   },
   "outputs": [],
   "source": [
    "df = pd.read_csv(\"mouse.csv\", index_col=0)\n",
    "print(df)"
   ]
  },
  {
   "cell_type": "markdown",
   "id": "94303588adf7b8ce",
   "metadata": {
    "collapsed": false
   },
   "source": [
    "# Plotting"
   ]
  },
  {
   "cell_type": "markdown",
   "id": "eabbd6316026750b",
   "metadata": {
    "collapsed": false
   },
   "source": [
    "1. Gen1 vs Gen2 Scatterplot"
   ]
  },
  {
   "cell_type": "code",
   "execution_count": null,
   "id": "6d3cc6fc0e677cf4",
   "metadata": {
    "collapsed": false
   },
   "outputs": [],
   "source": [
    "fig1=plt.figure(figsize=(5, 5))\n",
    "plt.scatter(x=df.Gene1, y=df.Gene2)\n",
    "plt.title(\"Gen1 vs Gen2 for mice\")\n",
    "plt.xlabel(\"Gen1\")\n",
    "plt.ylabel(\"Gen2\")\n",
    "plt.show()"
   ]
  },
  {
   "cell_type": "markdown",
   "id": "321de4bd119ab4e5",
   "metadata": {
    "collapsed": false
   },
   "source": [
    "2. Gen1 vs Gen2 vs Gen3 3d Scatterplot"
   ]
  },
  {
   "cell_type": "code",
   "execution_count": null,
   "id": "cd95ab26aa89f416",
   "metadata": {
    "collapsed": false
   },
   "outputs": [],
   "source": [
    "# Create a new figure\n",
    "fig2 = plt.figure(figsize=(5, 5))\n",
    "ax = plt.axes(projection=\"3d\")\n",
    "\n",
    "# Create the plot\n",
    "ax.scatter3D(xs=df.Gene1, ys=df.Gene2, zs=df.Gene3)\n",
    "plt.title(\"Gen1 vs Gen2 vs Gen3 for mice\")\n",
    "ax.set_xlabel(\"Gen1\")\n",
    "ax.set_ylabel(\"Gen2\")\n",
    "ax.set_zlabel(\"Gen3\")\n",
    "\n",
    "# show plot\n",
    "plt.show()"
   ]
  },
  {
   "cell_type": "markdown",
   "source": [
    "# PCA\n",
    "1. PCA could take four or more gene measurements (four or more dimensions), and make a 2-dimensional PCA plot. This plot will show us that similar mice cluster together.\n",
    "2. PCA will also tell us which gene (variable) is most valuable to cluster the data.\n",
    "3. PCA can also tell us how accurate the 2D graph is."
   ],
   "metadata": {
    "collapsed": false
   },
   "id": "542b4cb239c4006d"
  },
  {
   "cell_type": "code",
   "execution_count": null,
   "outputs": [],
   "source": [],
   "metadata": {
    "collapsed": false
   },
   "id": "f5b837204ac2e4c0"
  }
 ],
 "metadata": {
  "kernelspec": {
   "display_name": "Python 3 (ipykernel)",
   "language": "python",
   "name": "python3"
  },
  "language_info": {
   "codemirror_mode": {
    "name": "ipython",
    "version": 3
   },
   "file_extension": ".py",
   "mimetype": "text/x-python",
   "name": "python",
   "nbconvert_exporter": "python",
   "pygments_lexer": "ipython3",
   "version": "3.11.5"
  }
 },
 "nbformat": 4,
 "nbformat_minor": 5
}
