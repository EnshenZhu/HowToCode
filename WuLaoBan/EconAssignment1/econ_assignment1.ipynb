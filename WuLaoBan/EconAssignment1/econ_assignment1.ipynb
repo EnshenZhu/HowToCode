{
 "cells": [
  {
   "cell_type": "code",
   "execution_count": 36,
   "id": "initial_id",
   "metadata": {
    "collapsed": true,
    "ExecuteTime": {
     "end_time": "2024-02-09T02:52:31.576966900Z",
     "start_time": "2024-02-09T02:52:31.568443800Z"
    }
   },
   "outputs": [],
   "source": [
    "# import related library\n",
    "import pandas as pd\n",
    "import numpy as np"
   ]
  },
  {
   "cell_type": "code",
   "outputs": [],
   "source": [
    "df = pd.read_csv('ECON6600_youth_unemployment_self_employment_COVID.csv')"
   ],
   "metadata": {
    "collapsed": false,
    "ExecuteTime": {
     "end_time": "2024-02-09T02:52:32.234854800Z",
     "start_time": "2024-02-09T02:52:31.573964900Z"
    }
   },
   "id": "9136250c9291619f",
   "execution_count": 37
  },
  {
   "cell_type": "code",
   "outputs": [
    {
     "name": "stdout",
     "output_type": "stream",
     "text": [
      "(883228, 9)\n"
     ]
    }
   ],
   "source": [
    "print(df.shape)"
   ],
   "metadata": {
    "collapsed": false,
    "ExecuteTime": {
     "end_time": "2024-02-09T02:52:32.241358200Z",
     "start_time": "2024-02-09T02:52:32.235854200Z"
    }
   },
   "id": "cf6a1c86f0f2cbf6",
   "execution_count": 38
  },
  {
   "cell_type": "code",
   "outputs": [],
   "source": [
    "df_young_workers = df[(df['AGE_12'] == '15 to 19 years') & (df['SEX'] == 'Male')]\n",
    "df = df_young_workers"
   ],
   "metadata": {
    "collapsed": false,
    "ExecuteTime": {
     "end_time": "2024-02-09T02:52:32.341272100Z",
     "start_time": "2024-02-09T02:52:32.241358200Z"
    }
   },
   "id": "d4a8551a8d638419",
   "execution_count": 39
  },
  {
   "cell_type": "code",
   "outputs": [
    {
     "data": {
      "text/plain": "        SURVYEAR  SURVMNTH              PROV                   CMA  \\\n14          2019  February           Ontario              Hamilton   \n40          2019  February       Nova Scotia  Other CMA or non-CMA   \n43          2019  February      Saskatchewan  Other CMA or non-CMA   \n106         2019  February      Saskatchewan  Other CMA or non-CMA   \n113         2019  February          Manitoba  Other CMA or non-CMA   \n...          ...       ...               ...                   ...   \n883121      2020      July           Ontario  Other CMA or non-CMA   \n883124      2020      July            Quebec  Other CMA or non-CMA   \n883138      2020      July            Quebec  Other CMA or non-CMA   \n883171      2020      July     New Brunswick  Other CMA or non-CMA   \n883184      2020      July  British Columbia  Other CMA or non-CMA   \n\n                AGE_12   SEX  selfemp  unemp  AFTER      YearMonth  \n14      15 to 19 years  Male      0.0      1      0  2019_February  \n40      15 to 19 years  Male      1.0      0      0  2019_February  \n43      15 to 19 years  Male      0.0      0      0  2019_February  \n106     15 to 19 years  Male      0.0      0      0  2019_February  \n113     15 to 19 years  Male      0.0      0      0  2019_February  \n...                ...   ...      ...    ...    ...            ...  \n883121  15 to 19 years  Male      0.0      0      1      2020_July  \n883124  15 to 19 years  Male      0.0      0      1      2020_July  \n883138  15 to 19 years  Male      0.0      0      1      2020_July  \n883171  15 to 19 years  Male      0.0      0      1      2020_July  \n883184  15 to 19 years  Male      1.0      0      1      2020_July  \n\n[38879 rows x 10 columns]",
      "text/html": "<div>\n<style scoped>\n    .dataframe tbody tr th:only-of-type {\n        vertical-align: middle;\n    }\n\n    .dataframe tbody tr th {\n        vertical-align: top;\n    }\n\n    .dataframe thead th {\n        text-align: right;\n    }\n</style>\n<table border=\"1\" class=\"dataframe\">\n  <thead>\n    <tr style=\"text-align: right;\">\n      <th></th>\n      <th>SURVYEAR</th>\n      <th>SURVMNTH</th>\n      <th>PROV</th>\n      <th>CMA</th>\n      <th>AGE_12</th>\n      <th>SEX</th>\n      <th>selfemp</th>\n      <th>unemp</th>\n      <th>AFTER</th>\n      <th>YearMonth</th>\n    </tr>\n  </thead>\n  <tbody>\n    <tr>\n      <th>14</th>\n      <td>2019</td>\n      <td>February</td>\n      <td>Ontario</td>\n      <td>Hamilton</td>\n      <td>15 to 19 years</td>\n      <td>Male</td>\n      <td>0.0</td>\n      <td>1</td>\n      <td>0</td>\n      <td>2019_February</td>\n    </tr>\n    <tr>\n      <th>40</th>\n      <td>2019</td>\n      <td>February</td>\n      <td>Nova Scotia</td>\n      <td>Other CMA or non-CMA</td>\n      <td>15 to 19 years</td>\n      <td>Male</td>\n      <td>1.0</td>\n      <td>0</td>\n      <td>0</td>\n      <td>2019_February</td>\n    </tr>\n    <tr>\n      <th>43</th>\n      <td>2019</td>\n      <td>February</td>\n      <td>Saskatchewan</td>\n      <td>Other CMA or non-CMA</td>\n      <td>15 to 19 years</td>\n      <td>Male</td>\n      <td>0.0</td>\n      <td>0</td>\n      <td>0</td>\n      <td>2019_February</td>\n    </tr>\n    <tr>\n      <th>106</th>\n      <td>2019</td>\n      <td>February</td>\n      <td>Saskatchewan</td>\n      <td>Other CMA or non-CMA</td>\n      <td>15 to 19 years</td>\n      <td>Male</td>\n      <td>0.0</td>\n      <td>0</td>\n      <td>0</td>\n      <td>2019_February</td>\n    </tr>\n    <tr>\n      <th>113</th>\n      <td>2019</td>\n      <td>February</td>\n      <td>Manitoba</td>\n      <td>Other CMA or non-CMA</td>\n      <td>15 to 19 years</td>\n      <td>Male</td>\n      <td>0.0</td>\n      <td>0</td>\n      <td>0</td>\n      <td>2019_February</td>\n    </tr>\n    <tr>\n      <th>...</th>\n      <td>...</td>\n      <td>...</td>\n      <td>...</td>\n      <td>...</td>\n      <td>...</td>\n      <td>...</td>\n      <td>...</td>\n      <td>...</td>\n      <td>...</td>\n      <td>...</td>\n    </tr>\n    <tr>\n      <th>883121</th>\n      <td>2020</td>\n      <td>July</td>\n      <td>Ontario</td>\n      <td>Other CMA or non-CMA</td>\n      <td>15 to 19 years</td>\n      <td>Male</td>\n      <td>0.0</td>\n      <td>0</td>\n      <td>1</td>\n      <td>2020_July</td>\n    </tr>\n    <tr>\n      <th>883124</th>\n      <td>2020</td>\n      <td>July</td>\n      <td>Quebec</td>\n      <td>Other CMA or non-CMA</td>\n      <td>15 to 19 years</td>\n      <td>Male</td>\n      <td>0.0</td>\n      <td>0</td>\n      <td>1</td>\n      <td>2020_July</td>\n    </tr>\n    <tr>\n      <th>883138</th>\n      <td>2020</td>\n      <td>July</td>\n      <td>Quebec</td>\n      <td>Other CMA or non-CMA</td>\n      <td>15 to 19 years</td>\n      <td>Male</td>\n      <td>0.0</td>\n      <td>0</td>\n      <td>1</td>\n      <td>2020_July</td>\n    </tr>\n    <tr>\n      <th>883171</th>\n      <td>2020</td>\n      <td>July</td>\n      <td>New Brunswick</td>\n      <td>Other CMA or non-CMA</td>\n      <td>15 to 19 years</td>\n      <td>Male</td>\n      <td>0.0</td>\n      <td>0</td>\n      <td>1</td>\n      <td>2020_July</td>\n    </tr>\n    <tr>\n      <th>883184</th>\n      <td>2020</td>\n      <td>July</td>\n      <td>British Columbia</td>\n      <td>Other CMA or non-CMA</td>\n      <td>15 to 19 years</td>\n      <td>Male</td>\n      <td>1.0</td>\n      <td>0</td>\n      <td>1</td>\n      <td>2020_July</td>\n    </tr>\n  </tbody>\n</table>\n<p>38879 rows × 10 columns</p>\n</div>"
     },
     "execution_count": 40,
     "metadata": {},
     "output_type": "execute_result"
    }
   ],
   "source": [
    "# concatenate year and month\n",
    "df_young_workers['YearMonth'] = df_young_workers['SURVYEAR'].astype(str) +'_' + df['SURVMNTH']\n",
    "df_young_workers"
   ],
   "metadata": {
    "collapsed": false,
    "ExecuteTime": {
     "end_time": "2024-02-09T02:52:32.410513600Z",
     "start_time": "2024-02-09T02:52:32.344272600Z"
    }
   },
   "id": "f49843b0735d3ee2",
   "execution_count": 40
  },
  {
   "cell_type": "code",
   "outputs": [],
   "source": [
    "# drop month, year, city columns \n",
    "df_young_workers.drop('SURVYEAR', axis=1, inplace=True)\n",
    "df_young_workers.drop('SURVMNTH', axis=1, inplace=True)\n",
    "df_young_workers.drop('CMA', axis=1, inplace=True)\n",
    "\n",
    "df = df_young_workers"
   ],
   "metadata": {
    "collapsed": false,
    "ExecuteTime": {
     "end_time": "2024-02-09T02:52:32.410513600Z",
     "start_time": "2024-02-09T02:52:32.390263900Z"
    }
   },
   "id": "7b65247c82e95000",
   "execution_count": 41
  },
  {
   "cell_type": "code",
   "outputs": [
    {
     "data": {
      "text/plain": "['selfemp',\n 'unemp',\n 'AFTER',\n 'PROV_Alberta',\n 'PROV_British_Columbia',\n 'PROV_Manitoba',\n 'PROV_New_Brunswick',\n 'PROV_Newfoundland_and_Labrador',\n 'PROV_Nova_Scotia',\n 'PROV_Ontario',\n 'PROV_Prince_Edward_Island',\n 'PROV_Quebec',\n 'PROV_Saskatchewan',\n 'AGE_12_15_to_19_years',\n 'SEX_Male',\n 'YearMonth_2019_April',\n 'YearMonth_2019_February',\n 'YearMonth_2019_July',\n 'YearMonth_2019_June',\n 'YearMonth_2019_March',\n 'YearMonth_2019_May',\n 'YearMonth_2020_April',\n 'YearMonth_2020_February',\n 'YearMonth_2020_July',\n 'YearMonth_2020_June',\n 'YearMonth_2020_March',\n 'YearMonth_2020_May']"
     },
     "execution_count": 42,
     "metadata": {},
     "output_type": "execute_result"
    }
   ],
   "source": [
    "# Covenrsion for the category variables.\n",
    "# Find columns with a string (object) data type\n",
    "string_columns = df.select_dtypes(include=['object'])\n",
    "\n",
    "# Use get_dummies to one-hot encode all string columns\n",
    "df = pd.get_dummies(df, columns=string_columns.columns)\n",
    "df.columns = df.columns.str.replace(' ', '_')\n",
    "\n",
    "# covnert the bool values to numeric values\n",
    "df = df * 1\n",
    "df.columns.tolist()"
   ],
   "metadata": {
    "collapsed": false,
    "ExecuteTime": {
     "end_time": "2024-02-09T02:52:32.463892400Z",
     "start_time": "2024-02-09T02:52:32.398519600Z"
    }
   },
   "id": "973984b4cae85bfa",
   "execution_count": 42
  },
  {
   "cell_type": "code",
   "outputs": [],
   "source": [
    "df_no_emp = df.drop('unemp', axis=1).drop('selfemp', axis=1)\n",
    "df_selfemp = df.drop('unemp', axis=1)\n",
    "df_unemp = df.drop('selfemp', axis=1)"
   ],
   "metadata": {
    "collapsed": false,
    "ExecuteTime": {
     "end_time": "2024-02-09T02:52:32.464893400Z",
     "start_time": "2024-02-09T02:52:32.432234Z"
    }
   },
   "id": "e88a63c26dfdc954",
   "execution_count": 43
  },
  {
   "cell_type": "code",
   "outputs": [],
   "source": [
    "df_columns = ''\n",
    "for i in range(len(df_no_emp.columns)):\n",
    "    df_columns += str(df_no_emp.columns[i]) + ' + '"
   ],
   "metadata": {
    "collapsed": false,
    "ExecuteTime": {
     "end_time": "2024-02-09T02:52:32.486893400Z",
     "start_time": "2024-02-09T02:52:32.449885700Z"
    }
   },
   "id": "11be370f92afd3c",
   "execution_count": 44
  },
  {
   "cell_type": "code",
   "outputs": [],
   "source": [
    "df_columns = df_columns.strip()\n",
    "ols_parameter = 'unemp ~ ' + df_columns\n",
    "ols_parameter = ols_parameter[:-2]"
   ],
   "metadata": {
    "collapsed": false,
    "ExecuteTime": {
     "end_time": "2024-02-09T02:52:32.513894600Z",
     "start_time": "2024-02-09T02:52:32.454348Z"
    }
   },
   "id": "d63dd3de20c34e0e",
   "execution_count": 45
  },
  {
   "cell_type": "code",
   "outputs": [
    {
     "name": "stdout",
     "output_type": "stream",
     "text": [
      "unemp ~ AFTER + PROV_Alberta + PROV_British_Columbia + PROV_Manitoba + PROV_New_Brunswick + PROV_Newfoundland_and_Labrador + PROV_Nova_Scotia + PROV_Ontario + PROV_Prince_Edward_Island + PROV_Quebec + PROV_Saskatchewan + AGE_12_15_to_19_years + SEX_Male + YearMonth_2019_April + YearMonth_2019_February + YearMonth_2019_July + YearMonth_2019_June + YearMonth_2019_March + YearMonth_2019_May + YearMonth_2020_April + YearMonth_2020_February + YearMonth_2020_July + YearMonth_2020_June + YearMonth_2020_March + YearMonth_2020_May\n"
     ]
    }
   ],
   "source": [
    "print(ols_parameter)"
   ],
   "metadata": {
    "collapsed": false,
    "ExecuteTime": {
     "end_time": "2024-02-09T02:52:46.232101Z",
     "start_time": "2024-02-09T02:52:46.228093900Z"
    }
   },
   "id": "4df90c9345e2461e",
   "execution_count": 46
  },
  {
   "cell_type": "code",
   "outputs": [],
   "source": [],
   "metadata": {
    "collapsed": false
   },
   "id": "29ec690a18194302"
  }
 ],
 "metadata": {
  "kernelspec": {
   "display_name": "Python 3",
   "language": "python",
   "name": "python3"
  },
  "language_info": {
   "codemirror_mode": {
    "name": "ipython",
    "version": 2
   },
   "file_extension": ".py",
   "mimetype": "text/x-python",
   "name": "python",
   "nbconvert_exporter": "python",
   "pygments_lexer": "ipython2",
   "version": "2.7.6"
  }
 },
 "nbformat": 4,
 "nbformat_minor": 5
}
