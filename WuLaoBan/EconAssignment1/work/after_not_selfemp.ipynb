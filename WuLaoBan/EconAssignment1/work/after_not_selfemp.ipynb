{
 "cells": [
  {
   "cell_type": "markdown",
   "source": [
    "## 1. Import data, libraries and verify data integrity"
   ],
   "metadata": {
    "collapsed": false
   },
   "id": "bf0c1f6973ae60a8"
  },
  {
   "cell_type": "code",
   "outputs": [],
   "source": [
    "# import related library\n",
    "import pandas as pd\n",
    "import numpy as np"
   ],
   "metadata": {
    "collapsed": true,
    "ExecuteTime": {
     "end_time": "2024-02-09T20:43:49.532808600Z",
     "start_time": "2024-02-09T20:43:49.524796800Z"
    }
   },
   "id": "initial_id",
   "execution_count": 53
  },
  {
   "cell_type": "code",
   "outputs": [],
   "source": [
    "df = pd.read_csv(r'../ECON6600_youth_unemployment_self_employment_COVID.csv')"
   ],
   "metadata": {
    "collapsed": false,
    "ExecuteTime": {
     "end_time": "2024-02-09T20:43:50.097970300Z",
     "start_time": "2024-02-09T20:43:49.527806600Z"
    }
   },
   "id": "9136250c9291619f",
   "execution_count": 54
  },
  {
   "cell_type": "code",
   "outputs": [
    {
     "name": "stdout",
     "output_type": "stream",
     "text": [
      "(883228, 9)\n"
     ]
    }
   ],
   "source": [
    "print(df.shape)"
   ],
   "metadata": {
    "collapsed": false,
    "ExecuteTime": {
     "end_time": "2024-02-09T20:43:50.105096500Z",
     "start_time": "2024-02-09T20:43:50.099970400Z"
    }
   },
   "id": "cf6a1c86f0f2cbf6",
   "execution_count": 55
  },
  {
   "cell_type": "code",
   "outputs": [
    {
     "data": {
      "text/plain": "        SURVYEAR  SURVMNTH                  PROV                   CMA  \\\n0           2019  February  Prince Edward Island  Other CMA or non-CMA   \n1           2019  February               Alberta               Calgary   \n2           2019  February      British Columbia             Vancouver   \n3           2019  February              Manitoba              Winnipeg   \n4           2019  February      British Columbia             Vancouver   \n...          ...       ...                   ...                   ...   \n883223      2020   January               Ontario                   NaN   \n883224      2020   January              Manitoba                   NaN   \n883225      2020   January          Saskatchewan                   NaN   \n883226      2020   January               Alberta                   NaN   \n883227      2020   January      British Columbia                   NaN   \n\n                AGE_12     SEX  selfemp  unemp  AFTER  \n0       45 to 49 years    Male      0.0      0      0  \n1       30 to 34 years  Female      0.0      0      0  \n2       60 to 64 years  Female      1.0      0      0  \n3       60 to 64 years    Male      0.0      0      0  \n4       55 to 59 years  Female      1.0      0      0  \n...                ...     ...      ...    ...    ...  \n883223             NaN     NaN      NaN      0      0  \n883224             NaN     NaN      NaN      0      0  \n883225             NaN     NaN      NaN      0      0  \n883226             NaN     NaN      NaN      0      0  \n883227             NaN     NaN      NaN      0      0  \n\n[883228 rows x 9 columns]",
      "text/html": "<div>\n<style scoped>\n    .dataframe tbody tr th:only-of-type {\n        vertical-align: middle;\n    }\n\n    .dataframe tbody tr th {\n        vertical-align: top;\n    }\n\n    .dataframe thead th {\n        text-align: right;\n    }\n</style>\n<table border=\"1\" class=\"dataframe\">\n  <thead>\n    <tr style=\"text-align: right;\">\n      <th></th>\n      <th>SURVYEAR</th>\n      <th>SURVMNTH</th>\n      <th>PROV</th>\n      <th>CMA</th>\n      <th>AGE_12</th>\n      <th>SEX</th>\n      <th>selfemp</th>\n      <th>unemp</th>\n      <th>AFTER</th>\n    </tr>\n  </thead>\n  <tbody>\n    <tr>\n      <th>0</th>\n      <td>2019</td>\n      <td>February</td>\n      <td>Prince Edward Island</td>\n      <td>Other CMA or non-CMA</td>\n      <td>45 to 49 years</td>\n      <td>Male</td>\n      <td>0.0</td>\n      <td>0</td>\n      <td>0</td>\n    </tr>\n    <tr>\n      <th>1</th>\n      <td>2019</td>\n      <td>February</td>\n      <td>Alberta</td>\n      <td>Calgary</td>\n      <td>30 to 34 years</td>\n      <td>Female</td>\n      <td>0.0</td>\n      <td>0</td>\n      <td>0</td>\n    </tr>\n    <tr>\n      <th>2</th>\n      <td>2019</td>\n      <td>February</td>\n      <td>British Columbia</td>\n      <td>Vancouver</td>\n      <td>60 to 64 years</td>\n      <td>Female</td>\n      <td>1.0</td>\n      <td>0</td>\n      <td>0</td>\n    </tr>\n    <tr>\n      <th>3</th>\n      <td>2019</td>\n      <td>February</td>\n      <td>Manitoba</td>\n      <td>Winnipeg</td>\n      <td>60 to 64 years</td>\n      <td>Male</td>\n      <td>0.0</td>\n      <td>0</td>\n      <td>0</td>\n    </tr>\n    <tr>\n      <th>4</th>\n      <td>2019</td>\n      <td>February</td>\n      <td>British Columbia</td>\n      <td>Vancouver</td>\n      <td>55 to 59 years</td>\n      <td>Female</td>\n      <td>1.0</td>\n      <td>0</td>\n      <td>0</td>\n    </tr>\n    <tr>\n      <th>...</th>\n      <td>...</td>\n      <td>...</td>\n      <td>...</td>\n      <td>...</td>\n      <td>...</td>\n      <td>...</td>\n      <td>...</td>\n      <td>...</td>\n      <td>...</td>\n    </tr>\n    <tr>\n      <th>883223</th>\n      <td>2020</td>\n      <td>January</td>\n      <td>Ontario</td>\n      <td>NaN</td>\n      <td>NaN</td>\n      <td>NaN</td>\n      <td>NaN</td>\n      <td>0</td>\n      <td>0</td>\n    </tr>\n    <tr>\n      <th>883224</th>\n      <td>2020</td>\n      <td>January</td>\n      <td>Manitoba</td>\n      <td>NaN</td>\n      <td>NaN</td>\n      <td>NaN</td>\n      <td>NaN</td>\n      <td>0</td>\n      <td>0</td>\n    </tr>\n    <tr>\n      <th>883225</th>\n      <td>2020</td>\n      <td>January</td>\n      <td>Saskatchewan</td>\n      <td>NaN</td>\n      <td>NaN</td>\n      <td>NaN</td>\n      <td>NaN</td>\n      <td>0</td>\n      <td>0</td>\n    </tr>\n    <tr>\n      <th>883226</th>\n      <td>2020</td>\n      <td>January</td>\n      <td>Alberta</td>\n      <td>NaN</td>\n      <td>NaN</td>\n      <td>NaN</td>\n      <td>NaN</td>\n      <td>0</td>\n      <td>0</td>\n    </tr>\n    <tr>\n      <th>883227</th>\n      <td>2020</td>\n      <td>January</td>\n      <td>British Columbia</td>\n      <td>NaN</td>\n      <td>NaN</td>\n      <td>NaN</td>\n      <td>NaN</td>\n      <td>0</td>\n      <td>0</td>\n    </tr>\n  </tbody>\n</table>\n<p>883228 rows × 9 columns</p>\n</div>"
     },
     "execution_count": 56,
     "metadata": {},
     "output_type": "execute_result"
    }
   ],
   "source": [
    "df"
   ],
   "metadata": {
    "collapsed": false,
    "ExecuteTime": {
     "end_time": "2024-02-09T20:43:50.116740800Z",
     "start_time": "2024-02-09T20:43:50.105096500Z"
    }
   },
   "id": "ddcc6e981c764d38",
   "execution_count": 56
  },
  {
   "cell_type": "markdown",
   "source": [
    "## 2. Data Cleaning and Splitting"
   ],
   "metadata": {
    "collapsed": false
   },
   "id": "a0be10ac9ddacb4e"
  },
  {
   "cell_type": "code",
   "outputs": [
    {
     "data": {
      "text/plain": "                 PROV                   CMA          AGE_12     SEX  selfemp  \\\n9        Saskatchewan  Other CMA or non-CMA  25 to 29 years    Male      0.0   \n11            Ontario  Other CMA or non-CMA  20 to 24 years    Male      0.0   \n14            Ontario              Hamilton  15 to 19 years    Male      0.0   \n31             Quebec  Other CMA or non-CMA  25 to 29 years    Male      0.0   \n32        Nova Scotia  Other CMA or non-CMA  20 to 24 years    Male      0.0   \n...               ...                   ...             ...     ...      ...   \n883179         Quebec                Québec  25 to 29 years    Male      0.0   \n883180         Quebec              Montréal  25 to 29 years    Male      0.0   \n883189        Alberta  Other CMA or non-CMA  25 to 29 years    Male      0.0   \n883193        Ontario  Other CMA or non-CMA  20 to 24 years  Female      0.0   \n883202  New Brunswick  Other CMA or non-CMA  25 to 29 years  Female      0.0   \n\n        unemp  AFTER  \n9           0      0  \n11          0      0  \n14          1      0  \n31          0      0  \n32          0      0  \n...       ...    ...  \n883179      0      1  \n883180      0      1  \n883189      0      1  \n883193      0      1  \n883202      0      1  \n\n[171642 rows x 7 columns]",
      "text/html": "<div>\n<style scoped>\n    .dataframe tbody tr th:only-of-type {\n        vertical-align: middle;\n    }\n\n    .dataframe tbody tr th {\n        vertical-align: top;\n    }\n\n    .dataframe thead th {\n        text-align: right;\n    }\n</style>\n<table border=\"1\" class=\"dataframe\">\n  <thead>\n    <tr style=\"text-align: right;\">\n      <th></th>\n      <th>PROV</th>\n      <th>CMA</th>\n      <th>AGE_12</th>\n      <th>SEX</th>\n      <th>selfemp</th>\n      <th>unemp</th>\n      <th>AFTER</th>\n    </tr>\n  </thead>\n  <tbody>\n    <tr>\n      <th>9</th>\n      <td>Saskatchewan</td>\n      <td>Other CMA or non-CMA</td>\n      <td>25 to 29 years</td>\n      <td>Male</td>\n      <td>0.0</td>\n      <td>0</td>\n      <td>0</td>\n    </tr>\n    <tr>\n      <th>11</th>\n      <td>Ontario</td>\n      <td>Other CMA or non-CMA</td>\n      <td>20 to 24 years</td>\n      <td>Male</td>\n      <td>0.0</td>\n      <td>0</td>\n      <td>0</td>\n    </tr>\n    <tr>\n      <th>14</th>\n      <td>Ontario</td>\n      <td>Hamilton</td>\n      <td>15 to 19 years</td>\n      <td>Male</td>\n      <td>0.0</td>\n      <td>1</td>\n      <td>0</td>\n    </tr>\n    <tr>\n      <th>31</th>\n      <td>Quebec</td>\n      <td>Other CMA or non-CMA</td>\n      <td>25 to 29 years</td>\n      <td>Male</td>\n      <td>0.0</td>\n      <td>0</td>\n      <td>0</td>\n    </tr>\n    <tr>\n      <th>32</th>\n      <td>Nova Scotia</td>\n      <td>Other CMA or non-CMA</td>\n      <td>20 to 24 years</td>\n      <td>Male</td>\n      <td>0.0</td>\n      <td>0</td>\n      <td>0</td>\n    </tr>\n    <tr>\n      <th>...</th>\n      <td>...</td>\n      <td>...</td>\n      <td>...</td>\n      <td>...</td>\n      <td>...</td>\n      <td>...</td>\n      <td>...</td>\n    </tr>\n    <tr>\n      <th>883179</th>\n      <td>Quebec</td>\n      <td>Québec</td>\n      <td>25 to 29 years</td>\n      <td>Male</td>\n      <td>0.0</td>\n      <td>0</td>\n      <td>1</td>\n    </tr>\n    <tr>\n      <th>883180</th>\n      <td>Quebec</td>\n      <td>Montréal</td>\n      <td>25 to 29 years</td>\n      <td>Male</td>\n      <td>0.0</td>\n      <td>0</td>\n      <td>1</td>\n    </tr>\n    <tr>\n      <th>883189</th>\n      <td>Alberta</td>\n      <td>Other CMA or non-CMA</td>\n      <td>25 to 29 years</td>\n      <td>Male</td>\n      <td>0.0</td>\n      <td>0</td>\n      <td>1</td>\n    </tr>\n    <tr>\n      <th>883193</th>\n      <td>Ontario</td>\n      <td>Other CMA or non-CMA</td>\n      <td>20 to 24 years</td>\n      <td>Female</td>\n      <td>0.0</td>\n      <td>0</td>\n      <td>1</td>\n    </tr>\n    <tr>\n      <th>883202</th>\n      <td>New Brunswick</td>\n      <td>Other CMA or non-CMA</td>\n      <td>25 to 29 years</td>\n      <td>Female</td>\n      <td>0.0</td>\n      <td>0</td>\n      <td>1</td>\n    </tr>\n  </tbody>\n</table>\n<p>171642 rows × 7 columns</p>\n</div>"
     },
     "execution_count": 57,
     "metadata": {},
     "output_type": "execute_result"
    }
   ],
   "source": [
    "# Drop unnecessary SURVYEAR and SURVMNTH columns\n",
    "df = df.drop(columns=['SURVYEAR', 'SURVMNTH'])\n",
    "\n",
    "# select data points where the age falls between 15 and 29\n",
    "df = df[(df['AGE_12'] == '15 to 19 years') | (df['AGE_12'] == '20 to 24 years') | (df['AGE_12'] == '25 to 29 years')]\n",
    "\n",
    "# select data points for NOT self-employed\n",
    "df = df[(df['selfemp'] == 0)]\n",
    "\n",
    "df"
   ],
   "metadata": {
    "collapsed": false,
    "ExecuteTime": {
     "end_time": "2024-02-09T20:43:50.301278500Z",
     "start_time": "2024-02-09T20:43:50.116740800Z"
    }
   },
   "id": "5f815cba989a9a98",
   "execution_count": 57
  },
  {
   "cell_type": "code",
   "outputs": [
    {
     "data": {
      "text/plain": "        selfemp  unemp  AFTER  PROV_Alberta  PROV_British Columbia  \\\n9           0.0      0      0         False                  False   \n11          0.0      0      0         False                  False   \n14          0.0      1      0         False                  False   \n31          0.0      0      0         False                  False   \n32          0.0      0      0         False                  False   \n...         ...    ...    ...           ...                    ...   \n883179      0.0      0      1         False                  False   \n883180      0.0      0      1         False                  False   \n883189      0.0      0      1          True                  False   \n883193      0.0      0      1         False                  False   \n883202      0.0      0      1         False                  False   \n\n        PROV_Manitoba  PROV_New Brunswick  PROV_Newfoundland and Labrador  \\\n9               False               False                           False   \n11              False               False                           False   \n14              False               False                           False   \n31              False               False                           False   \n32              False               False                           False   \n...               ...                 ...                             ...   \n883179          False               False                           False   \n883180          False               False                           False   \n883189          False               False                           False   \n883193          False               False                           False   \n883202          False                True                           False   \n\n        PROV_Nova Scotia  PROV_Ontario  ...  CMA_Ottawa  CMA_Québec  \\\n9                  False         False  ...       False       False   \n11                 False          True  ...       False       False   \n14                 False          True  ...       False       False   \n31                 False         False  ...       False       False   \n32                  True         False  ...       False       False   \n...                  ...           ...  ...         ...         ...   \n883179             False         False  ...       False        True   \n883180             False         False  ...       False       False   \n883189             False         False  ...       False       False   \n883193             False          True  ...       False       False   \n883202             False         False  ...       False       False   \n\n        CMA_Toronto  CMA_Vancouver  CMA_Winnipeg  AGE_12_15 to 19 years  \\\n9             False          False         False                  False   \n11            False          False         False                  False   \n14            False          False         False                   True   \n31            False          False         False                  False   \n32            False          False         False                  False   \n...             ...            ...           ...                    ...   \n883179        False          False         False                  False   \n883180        False          False         False                  False   \n883189        False          False         False                  False   \n883193        False          False         False                  False   \n883202        False          False         False                  False   \n\n        AGE_12_20 to 24 years  AGE_12_25 to 29 years  SEX_Female  SEX_Male  \n9                       False                   True       False      True  \n11                       True                  False       False      True  \n14                      False                  False       False      True  \n31                      False                   True       False      True  \n32                       True                  False       False      True  \n...                       ...                    ...         ...       ...  \n883179                  False                   True       False      True  \n883180                  False                   True       False      True  \n883189                  False                   True       False      True  \n883193                   True                  False        True     False  \n883202                  False                   True        True     False  \n\n[171642 rows x 28 columns]",
      "text/html": "<div>\n<style scoped>\n    .dataframe tbody tr th:only-of-type {\n        vertical-align: middle;\n    }\n\n    .dataframe tbody tr th {\n        vertical-align: top;\n    }\n\n    .dataframe thead th {\n        text-align: right;\n    }\n</style>\n<table border=\"1\" class=\"dataframe\">\n  <thead>\n    <tr style=\"text-align: right;\">\n      <th></th>\n      <th>selfemp</th>\n      <th>unemp</th>\n      <th>AFTER</th>\n      <th>PROV_Alberta</th>\n      <th>PROV_British Columbia</th>\n      <th>PROV_Manitoba</th>\n      <th>PROV_New Brunswick</th>\n      <th>PROV_Newfoundland and Labrador</th>\n      <th>PROV_Nova Scotia</th>\n      <th>PROV_Ontario</th>\n      <th>...</th>\n      <th>CMA_Ottawa</th>\n      <th>CMA_Québec</th>\n      <th>CMA_Toronto</th>\n      <th>CMA_Vancouver</th>\n      <th>CMA_Winnipeg</th>\n      <th>AGE_12_15 to 19 years</th>\n      <th>AGE_12_20 to 24 years</th>\n      <th>AGE_12_25 to 29 years</th>\n      <th>SEX_Female</th>\n      <th>SEX_Male</th>\n    </tr>\n  </thead>\n  <tbody>\n    <tr>\n      <th>9</th>\n      <td>0.0</td>\n      <td>0</td>\n      <td>0</td>\n      <td>False</td>\n      <td>False</td>\n      <td>False</td>\n      <td>False</td>\n      <td>False</td>\n      <td>False</td>\n      <td>False</td>\n      <td>...</td>\n      <td>False</td>\n      <td>False</td>\n      <td>False</td>\n      <td>False</td>\n      <td>False</td>\n      <td>False</td>\n      <td>False</td>\n      <td>True</td>\n      <td>False</td>\n      <td>True</td>\n    </tr>\n    <tr>\n      <th>11</th>\n      <td>0.0</td>\n      <td>0</td>\n      <td>0</td>\n      <td>False</td>\n      <td>False</td>\n      <td>False</td>\n      <td>False</td>\n      <td>False</td>\n      <td>False</td>\n      <td>True</td>\n      <td>...</td>\n      <td>False</td>\n      <td>False</td>\n      <td>False</td>\n      <td>False</td>\n      <td>False</td>\n      <td>False</td>\n      <td>True</td>\n      <td>False</td>\n      <td>False</td>\n      <td>True</td>\n    </tr>\n    <tr>\n      <th>14</th>\n      <td>0.0</td>\n      <td>1</td>\n      <td>0</td>\n      <td>False</td>\n      <td>False</td>\n      <td>False</td>\n      <td>False</td>\n      <td>False</td>\n      <td>False</td>\n      <td>True</td>\n      <td>...</td>\n      <td>False</td>\n      <td>False</td>\n      <td>False</td>\n      <td>False</td>\n      <td>False</td>\n      <td>True</td>\n      <td>False</td>\n      <td>False</td>\n      <td>False</td>\n      <td>True</td>\n    </tr>\n    <tr>\n      <th>31</th>\n      <td>0.0</td>\n      <td>0</td>\n      <td>0</td>\n      <td>False</td>\n      <td>False</td>\n      <td>False</td>\n      <td>False</td>\n      <td>False</td>\n      <td>False</td>\n      <td>False</td>\n      <td>...</td>\n      <td>False</td>\n      <td>False</td>\n      <td>False</td>\n      <td>False</td>\n      <td>False</td>\n      <td>False</td>\n      <td>False</td>\n      <td>True</td>\n      <td>False</td>\n      <td>True</td>\n    </tr>\n    <tr>\n      <th>32</th>\n      <td>0.0</td>\n      <td>0</td>\n      <td>0</td>\n      <td>False</td>\n      <td>False</td>\n      <td>False</td>\n      <td>False</td>\n      <td>False</td>\n      <td>True</td>\n      <td>False</td>\n      <td>...</td>\n      <td>False</td>\n      <td>False</td>\n      <td>False</td>\n      <td>False</td>\n      <td>False</td>\n      <td>False</td>\n      <td>True</td>\n      <td>False</td>\n      <td>False</td>\n      <td>True</td>\n    </tr>\n    <tr>\n      <th>...</th>\n      <td>...</td>\n      <td>...</td>\n      <td>...</td>\n      <td>...</td>\n      <td>...</td>\n      <td>...</td>\n      <td>...</td>\n      <td>...</td>\n      <td>...</td>\n      <td>...</td>\n      <td>...</td>\n      <td>...</td>\n      <td>...</td>\n      <td>...</td>\n      <td>...</td>\n      <td>...</td>\n      <td>...</td>\n      <td>...</td>\n      <td>...</td>\n      <td>...</td>\n      <td>...</td>\n    </tr>\n    <tr>\n      <th>883179</th>\n      <td>0.0</td>\n      <td>0</td>\n      <td>1</td>\n      <td>False</td>\n      <td>False</td>\n      <td>False</td>\n      <td>False</td>\n      <td>False</td>\n      <td>False</td>\n      <td>False</td>\n      <td>...</td>\n      <td>False</td>\n      <td>True</td>\n      <td>False</td>\n      <td>False</td>\n      <td>False</td>\n      <td>False</td>\n      <td>False</td>\n      <td>True</td>\n      <td>False</td>\n      <td>True</td>\n    </tr>\n    <tr>\n      <th>883180</th>\n      <td>0.0</td>\n      <td>0</td>\n      <td>1</td>\n      <td>False</td>\n      <td>False</td>\n      <td>False</td>\n      <td>False</td>\n      <td>False</td>\n      <td>False</td>\n      <td>False</td>\n      <td>...</td>\n      <td>False</td>\n      <td>False</td>\n      <td>False</td>\n      <td>False</td>\n      <td>False</td>\n      <td>False</td>\n      <td>False</td>\n      <td>True</td>\n      <td>False</td>\n      <td>True</td>\n    </tr>\n    <tr>\n      <th>883189</th>\n      <td>0.0</td>\n      <td>0</td>\n      <td>1</td>\n      <td>True</td>\n      <td>False</td>\n      <td>False</td>\n      <td>False</td>\n      <td>False</td>\n      <td>False</td>\n      <td>False</td>\n      <td>...</td>\n      <td>False</td>\n      <td>False</td>\n      <td>False</td>\n      <td>False</td>\n      <td>False</td>\n      <td>False</td>\n      <td>False</td>\n      <td>True</td>\n      <td>False</td>\n      <td>True</td>\n    </tr>\n    <tr>\n      <th>883193</th>\n      <td>0.0</td>\n      <td>0</td>\n      <td>1</td>\n      <td>False</td>\n      <td>False</td>\n      <td>False</td>\n      <td>False</td>\n      <td>False</td>\n      <td>False</td>\n      <td>True</td>\n      <td>...</td>\n      <td>False</td>\n      <td>False</td>\n      <td>False</td>\n      <td>False</td>\n      <td>False</td>\n      <td>False</td>\n      <td>True</td>\n      <td>False</td>\n      <td>True</td>\n      <td>False</td>\n    </tr>\n    <tr>\n      <th>883202</th>\n      <td>0.0</td>\n      <td>0</td>\n      <td>1</td>\n      <td>False</td>\n      <td>False</td>\n      <td>False</td>\n      <td>True</td>\n      <td>False</td>\n      <td>False</td>\n      <td>False</td>\n      <td>...</td>\n      <td>False</td>\n      <td>False</td>\n      <td>False</td>\n      <td>False</td>\n      <td>False</td>\n      <td>False</td>\n      <td>False</td>\n      <td>True</td>\n      <td>True</td>\n      <td>False</td>\n    </tr>\n  </tbody>\n</table>\n<p>171642 rows × 28 columns</p>\n</div>"
     },
     "execution_count": 58,
     "metadata": {},
     "output_type": "execute_result"
    }
   ],
   "source": [
    "# Conduct OneHotEncoder to the categorical data column （这里问问韬哥）\n",
    "\n",
    "df_encoded = pd.get_dummies(df, columns=['PROV', 'CMA', 'AGE_12', 'SEX'])\n",
    "df_encoded"
   ],
   "metadata": {
    "collapsed": false,
    "ExecuteTime": {
     "end_time": "2024-02-09T20:43:50.396618700Z",
     "start_time": "2024-02-09T20:43:50.298756700Z"
    }
   },
   "id": "802e4318304aa400",
   "execution_count": 58
  }
 ],
 "metadata": {
  "kernelspec": {
   "display_name": "Python 3",
   "language": "python",
   "name": "python3"
  },
  "language_info": {
   "codemirror_mode": {
    "name": "ipython",
    "version": 2
   },
   "file_extension": ".py",
   "mimetype": "text/x-python",
   "name": "python",
   "nbconvert_exporter": "python",
   "pygments_lexer": "ipython2",
   "version": "2.7.6"
  }
 },
 "nbformat": 4,
 "nbformat_minor": 5
}
