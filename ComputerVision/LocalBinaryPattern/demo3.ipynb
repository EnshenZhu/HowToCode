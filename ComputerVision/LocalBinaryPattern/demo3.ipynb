{
 "cells": [
  {
   "cell_type": "markdown",
   "source": [
    "This script is an extension of the demo2.py but use the CS1.8 image as the reference"
   ],
   "metadata": {
    "collapsed": false
   },
   "id": "adfc2cb4dcb89ee5"
  },
  {
   "cell_type": "code",
   "execution_count": null,
   "outputs": [],
   "source": [
    "import numpy as np\n",
    "import matplotlib.pyplot as plt\n",
    "from skimage import data\n",
    "from skimage.feature import local_binary_pattern\n",
    "from skimage.color import label2rgb\n",
    "\n",
    "import cv2 as cv"
   ],
   "metadata": {
    "collapsed": false
   },
   "id": "3c9e8d0a22519bad"
  },
  {
   "cell_type": "code",
   "execution_count": null,
   "outputs": [],
   "source": [
    "# Load an example image\n",
    "image = cv.imread(\"../img_src/counter_strike.jpg\")"
   ],
   "metadata": {
    "collapsed": false
   },
   "id": "8a87278afb6d0c15"
  },
  {
   "cell_type": "code",
   "execution_count": null,
   "outputs": [],
   "source": [
    "# Convert the image to grayscale if it's not already\n",
    "image = cv.cvtColor(image, cv.COLOR_BGR2GRAY)"
   ],
   "metadata": {
    "collapsed": false
   },
   "id": "84582df969545cb6"
  },
  {
   "cell_type": "code",
   "execution_count": null,
   "outputs": [],
   "source": [
    "# Compute LBP features\n",
    "radius = 1\n",
    "n_points = 8 * radius\n",
    "lbp = local_binary_pattern(image, n_points, radius, method='uniform')"
   ],
   "metadata": {
    "collapsed": false
   },
   "id": "484a5148a90a9c7e"
  },
  {
   "cell_type": "code",
   "execution_count": null,
   "outputs": [],
   "source": [
    "print(\"LBP Image shape:\", lbp.shape)"
   ],
   "metadata": {
    "collapsed": false
   },
   "id": "3ecff6f2ef011f7f"
  },
  {
   "cell_type": "code",
   "execution_count": null,
   "outputs": [],
   "source": [
    "# Display the original image and the LBP image\n",
    "fig, (ax1, ax2) = plt.subplots(1, 2, figsize=(20, 10))\n",
    "\n",
    "ax1.imshow(image, cmap=plt.cm.gray)\n",
    "ax1.axis('off')\n",
    "ax1.set_title('Original Image')\n",
    "\n",
    "ax2.imshow(lbp, cmap=plt.cm.gray)\n",
    "ax2.axis('off')\n",
    "ax2.set_title('LBP Image')\n",
    "\n",
    "plt.show()"
   ],
   "metadata": {
    "collapsed": false
   },
   "id": "cc6351e6cb0509e3"
  },
  {
   "cell_type": "code",
   "execution_count": null,
   "outputs": [],
   "source": [
    "# cv.imshow('Faces Detected', image)"
   ],
   "metadata": {
    "collapsed": false
   },
   "id": "c31b671eb1d962f7"
  },
  {
   "cell_type": "code",
   "execution_count": null,
   "outputs": [],
   "source": [
    "# cv.waitKey(0)\n",
    "# cv.destroyAllWindows()"
   ],
   "metadata": {
    "collapsed": false
   },
   "id": "48ae563f60302ea2"
  }
 ],
 "metadata": {
  "kernelspec": {
   "display_name": "Python 3",
   "language": "python",
   "name": "python3"
  },
  "language_info": {
   "codemirror_mode": {
    "name": "ipython",
    "version": 2
   },
   "file_extension": ".py",
   "mimetype": "text/x-python",
   "name": "python",
   "nbconvert_exporter": "python",
   "pygments_lexer": "ipython2",
   "version": "2.7.6"
  }
 },
 "nbformat": 4,
 "nbformat_minor": 5
}
