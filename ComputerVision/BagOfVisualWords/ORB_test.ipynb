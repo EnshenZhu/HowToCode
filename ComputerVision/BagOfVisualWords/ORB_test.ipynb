{
 "cells": [
  {
   "cell_type": "markdown",
   "source": [
    "# Question 2"
   ],
   "metadata": {
    "collapsed": false
   },
   "id": "651d70e9105c0592"
  },
  {
   "cell_type": "code",
   "execution_count": 1,
   "outputs": [],
   "source": [
    "import cv2 as cv\n",
    "import numpy as np\n",
    "from sklearn.cluster import KMeans\n",
    "from sklearn.neighbors import KNeighborsClassifier\n",
    "from sklearn.model_selection import LeaveOneOut"
   ],
   "metadata": {
    "collapsed": false,
    "ExecuteTime": {
     "end_time": "2023-12-04T23:37:55.400393300Z",
     "start_time": "2023-12-04T23:37:54.787977200Z"
    }
   },
   "id": "f91de2860ba9d2da"
  },
  {
   "cell_type": "markdown",
   "source": [
    "## Create descriptors using SIFT"
   ],
   "metadata": {
    "collapsed": false
   },
   "id": "ceda14898b558c78"
  },
  {
   "cell_type": "code",
   "execution_count": 2,
   "outputs": [],
   "source": [
    "# sample_train = X_train[0]\n",
    "img_dota = cv.imread(\"dota.jpg\")\n",
    "# cv.imshow(\"dota\", img_dota)"
   ],
   "metadata": {
    "collapsed": false,
    "ExecuteTime": {
     "end_time": "2023-12-04T23:37:55.418684Z",
     "start_time": "2023-12-04T23:37:55.402396500Z"
    }
   },
   "id": "5b5b094c01d3a6f6"
  },
  {
   "cell_type": "code",
   "execution_count": 3,
   "outputs": [
    {
     "data": {
      "text/plain": "(353, 616, 3)"
     },
     "execution_count": 3,
     "metadata": {},
     "output_type": "execute_result"
    }
   ],
   "source": [
    "img_dota.shape"
   ],
   "metadata": {
    "collapsed": false,
    "ExecuteTime": {
     "end_time": "2023-12-04T23:37:55.435304600Z",
     "start_time": "2023-12-04T23:37:55.419685400Z"
    }
   },
   "id": "dfe5cecc7cf03c5e"
  },
  {
   "cell_type": "code",
   "execution_count": 4,
   "outputs": [
    {
     "data": {
      "text/plain": "numpy.ndarray"
     },
     "execution_count": 4,
     "metadata": {},
     "output_type": "execute_result"
    }
   ],
   "source": [
    "type(img_dota)"
   ],
   "metadata": {
    "collapsed": false,
    "ExecuteTime": {
     "end_time": "2023-12-04T23:37:55.486301700Z",
     "start_time": "2023-12-04T23:37:55.428791800Z"
    }
   },
   "id": "4271ca089257d9e3"
  },
  {
   "cell_type": "code",
   "execution_count": 5,
   "outputs": [],
   "source": [
    "# Function to extract features using SIFT\n",
    "def extract_sift_features(image):\n",
    "    gray = cv.cvtColor(image, cv.COLOR_BGR2GRAY)\n",
    "    sift = cv.ORB_create()\n",
    "    kp, des = sift.detectAndCompute(gray, None)\n",
    "    return gray, kp, des"
   ],
   "metadata": {
    "collapsed": false,
    "ExecuteTime": {
     "end_time": "2023-12-04T23:37:55.486301700Z",
     "start_time": "2023-12-04T23:37:55.438303500Z"
    }
   },
   "id": "d3be3b482d743c82"
  },
  {
   "cell_type": "code",
   "execution_count": 6,
   "outputs": [],
   "source": [
    "meta = extract_sift_features(img_dota)\n",
    "gray_img = meta[0]\n",
    "keypoints = meta[1]\n",
    "descriptor = meta[2]"
   ],
   "metadata": {
    "collapsed": false,
    "ExecuteTime": {
     "end_time": "2023-12-04T23:37:55.605220900Z",
     "start_time": "2023-12-04T23:37:55.447304300Z"
    }
   },
   "id": "a536aa03f34a3d09"
  },
  {
   "cell_type": "code",
   "execution_count": 7,
   "outputs": [
    {
     "name": "stdout",
     "output_type": "stream",
     "text": [
      "[[ 73 120  63 ...  35  71 126]\n",
      " [164  98 233 ... 251  86 192]\n",
      " [238 106 226 ... 117 126 198]\n",
      " ...\n",
      " [ 41 181  24 ...  66 138  17]\n",
      " [173 248 180 ... 125  89 207]\n",
      " [210 189 188 ...  84 135  90]]\n"
     ]
    }
   ],
   "source": [
    "print(descriptor)"
   ],
   "metadata": {
    "collapsed": false,
    "ExecuteTime": {
     "end_time": "2023-12-04T23:37:55.612872500Z",
     "start_time": "2023-12-04T23:37:55.606223100Z"
    }
   },
   "id": "5c5aca108731c44b"
  },
  {
   "cell_type": "code",
   "execution_count": 8,
   "outputs": [
    {
     "data": {
      "text/plain": "(353, 616)"
     },
     "execution_count": 8,
     "metadata": {},
     "output_type": "execute_result"
    }
   ],
   "source": [
    "gray_img.shape"
   ],
   "metadata": {
    "collapsed": false,
    "ExecuteTime": {
     "end_time": "2023-12-04T23:37:55.620790700Z",
     "start_time": "2023-12-04T23:37:55.613873700Z"
    }
   },
   "id": "9002baeb57d40393"
  },
  {
   "cell_type": "code",
   "execution_count": 9,
   "outputs": [],
   "source": [
    "kp_img = cv.drawKeypoints(gray_img, keypoints, img_dota, flags=cv.DRAW_MATCHES_FLAGS_DRAW_RICH_KEYPOINTS)\n",
    "cv.imshow(\"keypoint\", kp_img)"
   ],
   "metadata": {
    "collapsed": false,
    "ExecuteTime": {
     "end_time": "2023-12-04T23:37:55.696788600Z",
     "start_time": "2023-12-04T23:37:55.620790700Z"
    }
   },
   "id": "68779bfd72e5d4f4"
  },
  {
   "cell_type": "code",
   "execution_count": 10,
   "outputs": [],
   "source": [
    "cv.waitKey(0)\n",
    "cv.destroyAllWindows()"
   ],
   "metadata": {
    "collapsed": false,
    "ExecuteTime": {
     "end_time": "2023-12-04T23:38:00.890818500Z",
     "start_time": "2023-12-04T23:37:55.666792900Z"
    }
   },
   "id": "8ccf881087d324e4"
  }
 ],
 "metadata": {
  "kernelspec": {
   "display_name": "Python 3",
   "language": "python",
   "name": "python3"
  },
  "language_info": {
   "codemirror_mode": {
    "name": "ipython",
    "version": 2
   },
   "file_extension": ".py",
   "mimetype": "text/x-python",
   "name": "python",
   "nbconvert_exporter": "python",
   "pygments_lexer": "ipython2",
   "version": "2.7.6"
  }
 },
 "nbformat": 4,
 "nbformat_minor": 5
}
