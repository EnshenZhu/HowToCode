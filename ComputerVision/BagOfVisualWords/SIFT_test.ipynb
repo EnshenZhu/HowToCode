{
 "cells": [
  {
   "cell_type": "markdown",
   "source": [
    "# Question 2"
   ],
   "metadata": {
    "collapsed": false
   },
   "id": "651d70e9105c0592"
  },
  {
   "cell_type": "code",
   "execution_count": null,
   "outputs": [],
   "source": [
    "import cv2 as cv\n",
    "import numpy as np\n",
    "from sklearn.cluster import KMeans\n",
    "from sklearn.neighbors import KNeighborsClassifier\n",
    "from sklearn.model_selection import LeaveOneOut"
   ],
   "metadata": {
    "collapsed": false
   },
   "id": "f91de2860ba9d2da"
  },
  {
   "cell_type": "markdown",
   "source": [
    "## Create descriptors using SIFT"
   ],
   "metadata": {
    "collapsed": false
   },
   "id": "ceda14898b558c78"
  },
  {
   "cell_type": "code",
   "execution_count": null,
   "outputs": [],
   "source": [
    "# sample_train = X_train[0]\n",
    "img_dota = cv.imread(\"dota.jpg\")\n",
    "# cv.imshow(\"dota\", img_dota)"
   ],
   "metadata": {
    "collapsed": false
   },
   "id": "5b5b094c01d3a6f6"
  },
  {
   "cell_type": "code",
   "execution_count": null,
   "outputs": [],
   "source": [
    "img_dota.shape"
   ],
   "metadata": {
    "collapsed": false
   },
   "id": "dfe5cecc7cf03c5e"
  },
  {
   "cell_type": "code",
   "execution_count": null,
   "outputs": [],
   "source": [
    "type(img_dota)"
   ],
   "metadata": {
    "collapsed": false
   },
   "id": "4271ca089257d9e3"
  },
  {
   "cell_type": "code",
   "execution_count": null,
   "outputs": [],
   "source": [
    "# Function to extract features using SIFT\n",
    "def extract_sift_features(image):\n",
    "    gray = cv.cvtColor(image, cv.COLOR_BGR2GRAY)\n",
    "    sift = cv.SIFT_create()\n",
    "    kp, des = sift.detectAndCompute(gray, None)\n",
    "    return gray, kp, des"
   ],
   "metadata": {
    "collapsed": false
   },
   "id": "d3be3b482d743c82"
  },
  {
   "cell_type": "code",
   "execution_count": null,
   "outputs": [],
   "source": [
    "meta = extract_sift_features(img_dota)\n",
    "gray_img = meta[0]\n",
    "keypoints = meta[1]\n",
    "descriptor = meta[2]"
   ],
   "metadata": {
    "collapsed": false
   },
   "id": "a536aa03f34a3d09"
  },
  {
   "cell_type": "code",
   "execution_count": null,
   "outputs": [],
   "source": [
    "gray_img.shape"
   ],
   "metadata": {
    "collapsed": false
   },
   "id": "9002baeb57d40393"
  },
  {
   "cell_type": "code",
   "execution_count": null,
   "outputs": [],
   "source": [
    "kp_img = cv.drawKeypoints(gray_img, keypoints, img_dota, flags=cv.DRAW_MATCHES_FLAGS_DRAW_RICH_KEYPOINTS)\n",
    "cv.imshow(\"keypoint\",kp_img)"
   ],
   "metadata": {
    "collapsed": false
   },
   "id": "68779bfd72e5d4f4"
  },
  {
   "cell_type": "code",
   "execution_count": null,
   "outputs": [],
   "source": [
    "cv.waitKey(0)\n",
    "cv.destroyAllWindows()"
   ],
   "metadata": {
    "collapsed": false
   },
   "id": "8ccf881087d324e4"
  },
  {
   "cell_type": "code",
   "execution_count": null,
   "outputs": [],
   "source": [],
   "metadata": {
    "collapsed": false
   },
   "id": "530918b9eaec9d98"
  }
 ],
 "metadata": {
  "kernelspec": {
   "display_name": "Python 3",
   "language": "python",
   "name": "python3"
  },
  "language_info": {
   "codemirror_mode": {
    "name": "ipython",
    "version": 2
   },
   "file_extension": ".py",
   "mimetype": "text/x-python",
   "name": "python",
   "nbconvert_exporter": "python",
   "pygments_lexer": "ipython2",
   "version": "2.7.6"
  }
 },
 "nbformat": 4,
 "nbformat_minor": 5
}
