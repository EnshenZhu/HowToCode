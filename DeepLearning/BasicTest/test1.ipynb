{
 "cells": [
  {
   "cell_type": "code",
   "execution_count": 51,
   "id": "initial_id",
   "metadata": {
    "collapsed": true,
    "ExecuteTime": {
     "end_time": "2023-11-11T23:29:41.529749700Z",
     "start_time": "2023-11-11T23:29:41.519747600Z"
    }
   },
   "outputs": [],
   "source": [
    "import matplotlib.pyplot as plt\n",
    "import numpy as np\n",
    "\n",
    "import torch\n",
    "import torch.nn as nn\n",
    "import torch.optim as optim"
   ]
  },
  {
   "cell_type": "code",
   "execution_count": 52,
   "outputs": [
    {
     "data": {
      "text/plain": "'NVIDIA GeForce GTX 1060 3GB'"
     },
     "execution_count": 52,
     "metadata": {},
     "output_type": "execute_result"
    }
   ],
   "source": [
    "torch.cuda.get_device_name(0)"
   ],
   "metadata": {
    "collapsed": false,
    "ExecuteTime": {
     "end_time": "2023-11-11T23:29:41.566177700Z",
     "start_time": "2023-11-11T23:29:41.524751700Z"
    }
   },
   "id": "e6fffbdf52d2df3a"
  },
  {
   "cell_type": "code",
   "execution_count": 53,
   "outputs": [],
   "source": [
    "# Define a simple neural network class\n",
    "class SimpleNN(nn.Module):\n",
    "    def __init__(self, input_size, hidden_size, output_size):\n",
    "        super(SimpleNN, self).__init__()\n",
    "        self.fc1 = nn.Linear(input_size, hidden_size)\n",
    "        self.relu = nn.ReLU()\n",
    "        self.fc2 = nn.Linear(hidden_size, output_size)\n",
    "\n",
    "    def forward(self, x):\n",
    "        x = self.fc1(x)\n",
    "        x = self.relu(x)\n",
    "        x = self.fc2(x)\n",
    "        return x"
   ],
   "metadata": {
    "collapsed": false,
    "ExecuteTime": {
     "end_time": "2023-11-11T23:29:41.566177700Z",
     "start_time": "2023-11-11T23:29:41.544511100Z"
    }
   },
   "id": "46306a5235d4aca9"
  },
  {
   "cell_type": "code",
   "execution_count": 54,
   "outputs": [],
   "source": [
    "# Define input size, hidden size, and output size\n",
    "input_size = 10\n",
    "hidden_size = 5\n",
    "output_size = 2"
   ],
   "metadata": {
    "collapsed": false,
    "ExecuteTime": {
     "end_time": "2023-11-11T23:29:41.567179700Z",
     "start_time": "2023-11-11T23:29:41.548519900Z"
    }
   },
   "id": "4517b6a39e20e8a2"
  },
  {
   "cell_type": "code",
   "execution_count": 55,
   "outputs": [],
   "source": [
    "# Create an instance of the SimpleNN class\n",
    "model = SimpleNN(input_size, hidden_size, output_size)"
   ],
   "metadata": {
    "collapsed": false,
    "ExecuteTime": {
     "end_time": "2023-11-11T23:29:41.567179700Z",
     "start_time": "2023-11-11T23:29:41.555201Z"
    }
   },
   "id": "92daa4b77306be94"
  },
  {
   "cell_type": "code",
   "execution_count": 56,
   "outputs": [],
   "source": [
    "# Define a loss function and an optimizer\n",
    "criterion = nn.CrossEntropyLoss()\n",
    "optimizer = optim.SGD(model.parameters(), lr=0.01)"
   ],
   "metadata": {
    "collapsed": false,
    "ExecuteTime": {
     "end_time": "2023-11-11T23:29:41.567179700Z",
     "start_time": "2023-11-11T23:29:41.561863900Z"
    }
   },
   "id": "cfa6452edbc85399"
  },
  {
   "cell_type": "code",
   "execution_count": 57,
   "outputs": [],
   "source": [
    "# Generate some random input data and labels for demonstration\n",
    "input_data = torch.randn(100, input_size)\n",
    "labels = torch.randint(0, output_size, (100,))"
   ],
   "metadata": {
    "collapsed": false,
    "ExecuteTime": {
     "end_time": "2023-11-11T23:29:41.578860900Z",
     "start_time": "2023-11-11T23:29:41.568180400Z"
    }
   },
   "id": "b1c3398ac09c0ab3"
  },
  {
   "cell_type": "code",
   "execution_count": 58,
   "outputs": [],
   "source": [
    "loss_rate = []"
   ],
   "metadata": {
    "collapsed": false,
    "ExecuteTime": {
     "end_time": "2023-11-11T23:29:41.579859900Z",
     "start_time": "2023-11-11T23:29:41.573900400Z"
    }
   },
   "id": "bf005f078aad973d"
  },
  {
   "cell_type": "code",
   "execution_count": 59,
   "outputs": [],
   "source": [
    "# Training loop\n",
    "for epoch in range(5000):\n",
    "    # Forward pass\n",
    "    outputs = model(input_data)\n",
    "\n",
    "    # Calculate the loss\n",
    "    loss = criterion(outputs, labels)\n",
    "\n",
    "    # Backward pass and optimization\n",
    "    optimizer.zero_grad()\n",
    "    loss.backward()\n",
    "    optimizer.step()\n",
    "\n",
    "    # # Print the loss every 10 epochs\n",
    "    # if epoch % 10 == 0:\n",
    "    #     print(f'Epoch {epoch}, Loss: {round(loss.item()*100,2)}%')\n",
    "\n",
    "    loss_rate.append(loss.item())"
   ],
   "metadata": {
    "collapsed": false,
    "ExecuteTime": {
     "end_time": "2023-11-11T23:29:44.318789800Z",
     "start_time": "2023-11-11T23:29:41.580861100Z"
    }
   },
   "id": "b2bd43f4321a1f9c"
  },
  {
   "cell_type": "code",
   "execution_count": 60,
   "outputs": [
    {
     "data": {
      "text/plain": "[<matplotlib.lines.Line2D at 0x194cf6eba90>]"
     },
     "execution_count": 60,
     "metadata": {},
     "output_type": "execute_result"
    },
    {
     "data": {
      "text/plain": "<Figure size 640x480 with 1 Axes>",
      "image/png": "[encoded data removed]"
     },
     "metadata": {},
     "output_type": "display_data"
    }
   ],
   "source": [
    "plt.plot(loss_rate)"
   ],
   "metadata": {
    "collapsed": false,
    "ExecuteTime": {
     "end_time": "2023-11-11T23:29:44.446500100Z",
     "start_time": "2023-11-11T23:29:44.319791300Z"
    }
   },
   "id": "de35561202eef4bf"
  }
 ],
 "metadata": {
  "kernelspec": {
   "display_name": "Python 3",
   "language": "python",
   "name": "python3"
  },
  "language_info": {
   "codemirror_mode": {
    "name": "ipython",
    "version": 2
   },
   "file_extension": ".py",
   "mimetype": "text/x-python",
   "name": "python",
   "nbconvert_exporter": "python",
   "pygments_lexer": "ipython2",
   "version": "2.7.6"
  }
 },
 "nbformat": 4,
 "nbformat_minor": 5
}
